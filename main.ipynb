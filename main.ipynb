{
 "cells": [
  {
   "cell_type": "code",
   "execution_count": 4,
   "metadata": {},
   "outputs": [],
   "source": [
    "import multiplewatermark\n",
    "import importlib"
   ]
  },
  {
   "cell_type": "code",
   "execution_count": 64,
   "metadata": {},
   "outputs": [
    {
     "name": "stdout",
     "output_type": "stream",
     "text": [
      "hashing time:  0.0\n",
      "construct fragile payload time:  0.0\n",
      "embedding fragile time:  8.984375\n",
      "hashing time:  0.0\n",
      "construct fragile payload time:  0.0\n",
      "embedding fragile time:  9.171875\n",
      "hashing time:  0.0\n",
      "construct fragile payload time:  0.0\n",
      "embedding fragile time:  9.140625\n",
      "fragile processing time: 34.828125\n",
      "robust processing time: 0.09375\n",
      "hashing time:  0.015625\n",
      "construct fragile payload time:  0.015625\n",
      "hashing time:  0.0\n",
      "construct fragile payload time:  0.0\n",
      "hashing time:  0.0\n",
      "construct fragile payload time:  0.0\n",
      "1.0\n",
      "1.0\n",
      "1.0\n",
      "0.9253826530612245\n"
     ]
    }
   ],
   "source": [
    "importlib.reload(multiplewatermark)\n",
    "\n",
    "outsideShape = (40, 40)\n",
    "factor = 20\n",
    "bitPerPart = 8\n",
    "radius = 10\n",
    "\n",
    "imageData = multiplewatermark.readImage(\"test-2000x2000.png\")\n",
    "watermarked = multiplewatermark.processEmbedMultipleWatermarkColor(\n",
    "    imageData, \"thor\", outsideShape, factor, False, False, \"watermarked\", \"watermarked.png\", bitPerPart, radius, mode=\"VERBOSE\")\n",
    "multiplewatermark.processExtractMultipleWatermarkColor(watermarked, imageData, \"thor\", outsideShape, factor, bitPerPart, radius)\n",
    "\n"
   ]
  }
 ],
 "metadata": {
  "kernelspec": {
   "display_name": "venv",
   "language": "python",
   "name": "python3"
  },
  "language_info": {
   "codemirror_mode": {
    "name": "ipython",
    "version": 3
   },
   "file_extension": ".py",
   "mimetype": "text/x-python",
   "name": "python",
   "nbconvert_exporter": "python",
   "pygments_lexer": "ipython3",
   "version": "3.11.2"
  },
  "orig_nbformat": 4
 },
 "nbformat": 4,
 "nbformat_minor": 2
}
