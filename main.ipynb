{
 "cells": [
  {
   "cell_type": "code",
   "execution_count": 1,
   "metadata": {},
   "outputs": [],
   "source": [
    "import multiplewatermark\n",
    "import importlib\n",
    "import pandas as pd\n",
    "import numpy as np\n",
    "import matplotlib.pyplot as plt\n",
    "from tqdm.notebook import tqdm\n",
    "# from tqdm import tqdm"
   ]
  },
  {
   "cell_type": "code",
   "execution_count": null,
   "metadata": {},
   "outputs": [],
   "source": [
    "importlib.reload(multiplewatermark)"
   ]
  },
  {
   "cell_type": "code",
   "execution_count": null,
   "metadata": {},
   "outputs": [],
   "source": [
    "importlib.reload(multiplewatermark)\n",
    "\n",
    "outsideShape = (40, 40)\n",
    "factor = 20\n",
    "bitPerPart = 8\n",
    "radius = 10\n",
    "\n",
    "imageData = multiplewatermark.readImage(\"test-2000x2000.png\")\n",
    "preCalcFragileWatermark = multiplewatermark.processEmbedFragileWatermarkColor(\n",
    "    imageData=imageData, password=\"thor\", outsideImageSize=outsideShape)\n",
    "watermarked = multiplewatermark.processEmbedMultipleWatermarkColor(\n",
    "    imageData=imageData, password=\"thor\", outsideImageSize=outsideShape, factor=factor, show=False, save=False, dir=\"watermarked\", out=\"watermarked.png\", bitPerPart=bitPerPart, radius=radius, preCalcFragileWatermark=preCalcFragileWatermark, mode=\"NORMAL\")\n",
    "watermarked = multiplewatermark.processEmbedMultipleWatermarkColor(\n",
    "    imageData=imageData, password=\"thor\", outsideImageSize=outsideShape, factor=factor, show=False, save=False, dir=\"watermarked\", out=\"watermarked.png\", bitPerPart=bitPerPart, radius=radius, preCalcFragileWatermark=preCalcFragileWatermark, mode=\"NORMAL\")\n",
    "multiplewatermark.processExtractMultipleWatermarkColor(watermarked, imageData, \"thor\", outsideShape, factor, bitPerPart, radius)\n"
   ]
  },
  {
   "cell_type": "code",
   "execution_count": null,
   "metadata": {},
   "outputs": [],
   "source": [
    "SEPARATOR = \"-\"\n",
    "\n",
    "\n",
    "def isSkip(outsideShape, radius):\n",
    "    if (radius*2 >= min(outsideShape)):\n",
    "        return True\n",
    "    return False\n",
    "\n",
    "\n",
    "def createFileName(outsideShape, factor, bitPerPart, radius):\n",
    "    return str(outsideShape[0]) + SEPARATOR + str(outsideShape[1]) + SEPARATOR + str(factor) + \\\n",
    "        SEPARATOR + str(bitPerPart) + SEPARATOR + str(radius) + \".png\"\n"
   ]
  },
  {
   "cell_type": "code",
   "execution_count": null,
   "metadata": {},
   "outputs": [],
   "source": [
    "outsideShapeList = [(10, 10), (20, 20), (40, 40), (50, 50),\n",
    "                    (100, 100), (200, 200), (250, 250), (500, 500)]\n",
    "factorList = [1] + [i for i in range(10, 101, 10)]\n",
    "bitPerPartList = [4, 8, 16, 32, 64, 128]\n",
    "\n",
    "filenameDF = []\n",
    "outsideShapeDF = []\n",
    "factorDF = []\n",
    "bitPerPartDf = []\n",
    "radiusDF = []\n",
    "psnrDF = []\n",
    "\n",
    "pbar_outsideShape = tqdm(total=len(outsideShapeList), desc=\"outside shape\", position=0)\n",
    "pbar_radius = tqdm(desc=\"radius\", position=1)\n",
    "pbar_factor = tqdm(total=len(factorList), desc=\"factor\", position=2)\n",
    "pbar_bitPerPart = tqdm(total=len(bitPerPartList), desc=\"bit per part\", position=3)\n",
    "\n",
    "imageData = multiplewatermark.readImage(\"test-2000x2000.png\")\n",
    "for outsideShape in outsideShapeList:\n",
    "    pbar_outsideShape.set_description(desc=\"outside shape \" + str(outsideShape))\n",
    "    step = min(outsideShape) // 10\n",
    "    if step < 1:\n",
    "        step = 1\n",
    "    radiusList = [i for i in range(1, (min(outsideShape) // 2) - 2, step)]\n",
    "    preCalcFragileWatermark = multiplewatermark.processEmbedFragileWatermarkColor(\n",
    "        imageData=imageData, password=\"thor\", outsideImageSize=outsideShape)\n",
    "    pbar_radius.reset(total=len(radiusList))\n",
    "    for radius in radiusList:\n",
    "        pbar_radius.set_description(desc=\"radius \" + str(radius))\n",
    "        if (isSkip(outsideShape=outsideShape, radius=radius)):\n",
    "            continue\n",
    "        pbar_factor.reset()\n",
    "        for factor in factorList:\n",
    "            pbar_factor.set_description(desc=\"factor \" + str(factor))\n",
    "            pbar_bitPerPart.reset()\n",
    "            for bitPerPart in bitPerPartList:\n",
    "                pbar_bitPerPart.set_description(desc=\"bit per part \" + str(bitPerPart))\n",
    "                filename = createFileName(\n",
    "                    outsideShape, factor, bitPerPart, radius)\n",
    "                watermarked = multiplewatermark.processEmbedMultipleWatermarkColor(\n",
    "                    imageData=imageData, password=\"thor\", outsideImageSize=outsideShape, factor=factor, show=False, save=True, dir=\"watermarked/test-2000x2000\", out=filename, bitPerPart=bitPerPart, radius=radius, mode=\"NORMAL\", preCalcFragileWatermark=preCalcFragileWatermark)\n",
    "                psnr = multiplewatermark.psnr(imageData, watermarked)\n",
    "                outsideShapeDF.append(outsideShape)\n",
    "                factorDF.append(factor)\n",
    "                bitPerPartDf.append(bitPerPart)\n",
    "                radiusDF.append(radius)\n",
    "                psnrDF.append(psnr)\n",
    "                filenameDF.append(filename)\n",
    "                pbar_bitPerPart.update()\n",
    "            pbar_factor.update()\n",
    "        pbar_radius.update()\n",
    "    pbar_outsideShape.update()\n",
    "\n",
    "pbar_outsideShape.close\n",
    "pbar_radius.close()\n",
    "pbar_factor.close()\n",
    "pbar_bitPerPart.close()\n",
    "\n",
    "\n",
    "dict = {\n",
    "    \"filename\": filenameDF,\n",
    "    \"outsideShape\": outsideShapeDF,\n",
    "    \"factor\": factorDF,\n",
    "    \"bitPerPart\": bitPerPartDf,\n",
    "    \"radius\": radiusDF,\n",
    "    \"psnr\": psnrDF\n",
    "}\n",
    "df = pd.DataFrame(dict)\n",
    "df.to_csv(\"2000x2000.csv\")\n",
    "print(df)\n"
   ]
  },
  {
   "cell_type": "code",
   "execution_count": null,
   "metadata": {},
   "outputs": [],
   "source": [
    "outsideShapeList = [(10, 10), (20, 20), (40, 40), (50, 50),\n",
    "                    (100, 100), (200, 200), (250, 250)]\n",
    "factorList = [1] + [i for i in range(10, 101, 10)]\n",
    "bitPerPartList = [4, 8, 16, 32, 64]\n",
    "\n",
    "filenameDF = []\n",
    "outsideShapeDF = []\n",
    "factorDF = []\n",
    "bitPerPartDf = []\n",
    "radiusDF = []\n",
    "psnrDF = []\n",
    "\n",
    "pbar_outsideShape = tqdm(total=len(outsideShapeList), desc=\"outside shape\", position=0)\n",
    "pbar_radius = tqdm(desc=\"radius\", position=1)\n",
    "pbar_factor = tqdm(total=len(factorList), desc=\"factor\", position=2)\n",
    "pbar_bitPerPart = tqdm(total=len(bitPerPartList), desc=\"bit per part\", position=3)\n",
    "\n",
    "imageData = multiplewatermark.readImage(\"test-1000x1000.png\")\n",
    "for outsideShape in outsideShapeList:\n",
    "    pbar_outsideShape.set_description(desc=\"outside shape \" + str(outsideShape))\n",
    "    step = min(outsideShape) // 10\n",
    "    if step < 1:\n",
    "        step = 1\n",
    "    radiusList = [i for i in range(1, (min(outsideShape) // 2) - 2, step)]\n",
    "    preCalcFragileWatermark = multiplewatermark.processEmbedFragileWatermarkColor(\n",
    "        imageData=imageData, password=\"thor\", outsideImageSize=outsideShape)\n",
    "    pbar_radius.reset(total=len(radiusList))\n",
    "    for radius in radiusList:\n",
    "        pbar_radius.set_description(desc=\"radius \" + str(radius))\n",
    "        if (isSkip(outsideShape=outsideShape, radius=radius)):\n",
    "            continue\n",
    "        pbar_factor.reset()\n",
    "        for factor in factorList:\n",
    "            pbar_factor.set_description(desc=\"factor \" + str(factor))\n",
    "            pbar_bitPerPart.reset()\n",
    "            for bitPerPart in bitPerPartList:\n",
    "                pbar_bitPerPart.set_description(desc=\"bit per part \" + str(bitPerPart))\n",
    "                filename = createFileName(\n",
    "                    outsideShape, factor, bitPerPart, radius)\n",
    "                watermarked = multiplewatermark.processEmbedMultipleWatermarkColor(\n",
    "                    imageData=imageData, password=\"thor\", outsideImageSize=outsideShape, factor=factor, show=False, save=True, dir=\"watermarked/test-1000x1000\", out=filename, bitPerPart=bitPerPart, radius=radius, mode=\"NORMAL\", preCalcFragileWatermark=preCalcFragileWatermark)\n",
    "                psnr = multiplewatermark.psnr(imageData, watermarked)\n",
    "                outsideShapeDF.append(outsideShape)\n",
    "                factorDF.append(factor)\n",
    "                bitPerPartDf.append(bitPerPart)\n",
    "                radiusDF.append(radius)\n",
    "                psnrDF.append(psnr)\n",
    "                filenameDF.append(filename)\n",
    "                pbar_bitPerPart.update()\n",
    "            pbar_factor.update()\n",
    "        pbar_radius.update()\n",
    "    pbar_outsideShape.update()\n",
    "\n",
    "pbar_outsideShape.close\n",
    "pbar_radius.close()\n",
    "pbar_factor.close()\n",
    "pbar_bitPerPart.close()\n",
    "\n",
    "\n",
    "dict = {\n",
    "    \"filename\": filenameDF,\n",
    "    \"outsideShape\": outsideShapeDF,\n",
    "    \"factor\": factorDF,\n",
    "    \"bitPerPart\": bitPerPartDf,\n",
    "    \"radius\": radiusDF,\n",
    "    \"psnr\": psnrDF\n",
    "}\n",
    "df = pd.DataFrame(dict)\n",
    "df.to_csv(\"1000x1000.csv\")\n",
    "print(df)\n"
   ]
  },
  {
   "cell_type": "code",
   "execution_count": null,
   "metadata": {},
   "outputs": [],
   "source": [
    "outsideShapeList = [(10, 10), (20, 20), (50, 50),\n",
    "                    (100, 100)]\n",
    "factorList = [1] + [i for i in range(10, 101, 10)]\n",
    "bitPerPartList = [4, 8, 16, 32]\n",
    "\n",
    "filenameDF = []\n",
    "outsideShapeDF = []\n",
    "factorDF = []\n",
    "bitPerPartDf = []\n",
    "radiusDF = []\n",
    "psnrDF = []\n",
    "\n",
    "pbar_outsideShape = tqdm(total=len(outsideShapeList), desc=\"outside shape\", position=0)\n",
    "pbar_radius = tqdm(desc=\"radius\", position=1)\n",
    "pbar_factor = tqdm(total=len(factorList), desc=\"factor\", position=2)\n",
    "pbar_bitPerPart = tqdm(total=len(bitPerPartList), desc=\"bit per part\", position=3)\n",
    "\n",
    "imageData = multiplewatermark.readImage(\"test-500x500.png\")\n",
    "for outsideShape in outsideShapeList:\n",
    "    pbar_outsideShape.set_description(desc=\"outside shape \" + str(outsideShape))\n",
    "    step = min(outsideShape) // 10\n",
    "    if step < 1:\n",
    "        step = 1\n",
    "    radiusList = [i for i in range(1, (min(outsideShape) // 2) - 2, step)]\n",
    "    preCalcFragileWatermark = multiplewatermark.processEmbedFragileWatermarkColor(\n",
    "        imageData=imageData, password=\"thor\", outsideImageSize=outsideShape)\n",
    "    pbar_radius.reset(total=len(radiusList))\n",
    "    for radius in radiusList:\n",
    "        pbar_radius.set_description(desc=\"radius \" + str(radius))\n",
    "        if (isSkip(outsideShape=outsideShape, radius=radius)):\n",
    "            continue\n",
    "        pbar_factor.reset()\n",
    "        for factor in factorList:\n",
    "            pbar_factor.set_description(desc=\"factor \" + str(factor))\n",
    "            pbar_bitPerPart.reset()\n",
    "            for bitPerPart in bitPerPartList:\n",
    "                pbar_bitPerPart.set_description(desc=\"bit per part \" + str(bitPerPart))\n",
    "                filename = createFileName(\n",
    "                    outsideShape, factor, bitPerPart, radius)\n",
    "                watermarked = multiplewatermark.processEmbedMultipleWatermarkColor(\n",
    "                    imageData=imageData, password=\"thor\", outsideImageSize=outsideShape, factor=factor, show=False, save=True, dir=\"watermarked/test-500x500\", out=filename, bitPerPart=bitPerPart, radius=radius, mode=\"NORMAL\", preCalcFragileWatermark=preCalcFragileWatermark)\n",
    "                psnr = multiplewatermark.psnr(imageData, watermarked)\n",
    "                outsideShapeDF.append(outsideShape)\n",
    "                factorDF.append(factor)\n",
    "                bitPerPartDf.append(bitPerPart)\n",
    "                radiusDF.append(radius)\n",
    "                psnrDF.append(psnr)\n",
    "                filenameDF.append(filename)\n",
    "                pbar_bitPerPart.update()\n",
    "            pbar_factor.update()\n",
    "        pbar_radius.update()\n",
    "    pbar_outsideShape.update()\n",
    "\n",
    "pbar_outsideShape.close\n",
    "pbar_radius.close()\n",
    "pbar_factor.close()\n",
    "pbar_bitPerPart.close()\n",
    "\n",
    "\n",
    "dict = {\n",
    "    \"filename\": filenameDF,\n",
    "    \"outsideShape\": outsideShapeDF,\n",
    "    \"factor\": factorDF,\n",
    "    \"bitPerPart\": bitPerPartDf,\n",
    "    \"radius\": radiusDF,\n",
    "    \"psnr\": psnrDF\n",
    "}\n",
    "df = pd.DataFrame(dict)\n",
    "df.to_csv(\"500x500.csv\")\n",
    "print(df)\n"
   ]
  },
  {
   "cell_type": "code",
   "execution_count": 3,
   "metadata": {},
   "outputs": [
    {
     "name": "stdout",
     "output_type": "stream",
     "text": [
      "(10, 10)\n",
      "1\n",
      "4\n",
      "1\n",
      "0.7512755102040817\n",
      "filename        10-10-1-4-1.png\n",
      "outsideShape           (10, 10)\n",
      "factor                        1\n",
      "bitPerPart                    4\n",
      "radius                        1\n",
      "psnr                  41.568959\n",
      "Name: 0, dtype: object\n"
     ]
    }
   ],
   "source": [
    "df = pd.read_csv(\"500x500-1.csv\", index_col=0)\n",
    "originalImageData = multiplewatermark.readImage(\"test-500x500.png\")\n",
    "imageData = multiplewatermark.readImage(\n",
    "    \"watermarked/test-500x500/\" + df.loc[0][\"filename\"])\n",
    "originalImageDataYUV = multiplewatermark.rgbToYUV(originalImageData)\n",
    "imageDataYUV = multiplewatermark.rgbToYUV(imageData)\n",
    "\n",
    "outsideImageSize = tuple(map(int, df.loc[0][\"outsideShape\"][1:-1].split(', ')))\n",
    "factor = int(df.loc[0][\"factor\"])\n",
    "bitPerPart = int(df.loc[0][\"bitPerPart\"])\n",
    "radius = int(df.loc[0][\"radius\"])\n",
    "\n",
    "_, outsideImageDataY = multiplewatermark.splitImage(\n",
    "    imageDataYUV[:, :, 0], outsideImageSize)\n",
    "_, originalOutsideImageDataY = multiplewatermark.splitImage(\n",
    "    originalImageDataYUV[:, :, 0], outsideImageSize)\n",
    "\n",
    "robustCheckResult = multiplewatermark.processExtractRobustWatermark(\n",
    "    outsideImageDataY, originalOutsideImageDataY, \"thor\", factor, bitPerPart, radius)\n",
    "\n",
    "print(outsideImageSize)\n",
    "print(factor)\n",
    "print(bitPerPart)\n",
    "print(radius)\n",
    "print(robustCheckResult)\n",
    "print(df.loc[0])\n"
   ]
  },
  {
   "cell_type": "code",
   "execution_count": 7,
   "metadata": {},
   "outputs": [
    {
     "data": {
      "application/vnd.jupyter.widget-view+json": {
       "model_id": "41a5d1fc6d9246f3bc2dc86b5a19b815",
       "version_major": 2,
       "version_minor": 0
      },
      "text/plain": [
       "  0%|          | 0/704 [00:00<?, ?it/s]"
      ]
     },
     "metadata": {},
     "output_type": "display_data"
    },
    {
     "name": "stdout",
     "output_type": "stream",
     "text": [
      "running fragile check\n",
      "running fragile check\n",
      "running fragile check\n",
      "running fragile check\n"
     ]
    }
   ],
   "source": [
    "df = pd.read_csv(\"500x500-1.csv\", index_col=0)\n",
    "originalImageData = multiplewatermark.readImage(\"test-500x500.png\")\n",
    "originalImageDataYUV = multiplewatermark.rgbToYUV(originalImageData)\n",
    "robust = []\n",
    "fragileR = []\n",
    "fragileG = []\n",
    "fragileB = []\n",
    "\n",
    "prevImageSize = (-1, -1)\n",
    "for i, data in tqdm(df.iterrows(), total=df.shape[0]):\n",
    "    imageData = multiplewatermark.readImage(\n",
    "        \"watermarked/test-500x500/\" + data[\"filename\"])\n",
    "    \n",
    "    imageDataYUV = multiplewatermark.rgbToYUV(imageData)\n",
    "    outsideImageSize = tuple(\n",
    "        map(int, data[\"outsideShape\"][1:-1].split(', ')))\n",
    "    factor = int(data[\"factor\"])\n",
    "    bitPerPart = int(data[\"bitPerPart\"])\n",
    "    radius = int(data[\"radius\"])\n",
    "\n",
    "    _, originalOutsideImageDataY = multiplewatermark.splitImage(\n",
    "        originalImageDataYUV[:, :, 0], outsideImageSize)\n",
    "    _, outsideImageDataY = multiplewatermark.splitImage(\n",
    "        imageDataYUV[:, :, 0], outsideImageSize)\n",
    "\n",
    "    robustCheckResult = multiplewatermark.processExtractRobustWatermark(\n",
    "        outsideImageDataY, originalOutsideImageDataY, \"thor\", factor, bitPerPart, radius)\n",
    "    \n",
    "    # if(prevImageSize != outsideImageSize):\n",
    "    if(True):\n",
    "        # print(\"running fragile check\")\n",
    "        insideImageDataR, _ = multiplewatermark.splitImage(\n",
    "            imageData[:, :, 0], outsideImageSize, multiplewatermark.INSIDE_ONLY)\n",
    "        insideImageDataG, _ = multiplewatermark.splitImage(\n",
    "            imageData[:, :, 1], outsideImageSize, multiplewatermark.INSIDE_ONLY)\n",
    "        insideImageDataB, _ = multiplewatermark.splitImage(\n",
    "            imageData[:, :, 2], outsideImageSize, multiplewatermark.INSIDE_ONLY)\n",
    "        extractedFragileR = multiplewatermark.extractFragileWatermark(insideImageDataR, \"thor\")\n",
    "        extractedFragileG = multiplewatermark.extractFragileWatermark(insideImageDataG, \"thor\")\n",
    "        extractedFragileB = multiplewatermark.extractFragileWatermark(insideImageDataB, \"thor\")\n",
    "        prevImageSize = outsideImageSize\n",
    "    \n",
    "    robust.append(robustCheckResult)\n",
    "    fragileR.append(np.average(extractedFragileR))\n",
    "    fragileG.append(np.average(extractedFragileG))\n",
    "    fragileB.append(np.average(extractedFragileB))\n",
    "\n",
    "df[\"robustCheck\"] = robust\n",
    "df[\"fragileRedCheck\"] = fragileR\n",
    "df[\"fragileGreenCheck\"] = fragileG\n",
    "df[\"fragileBlueCheck\"] = fragileB\n",
    "df.to_csv(\"500x500-with-check.csv\")\n"
   ]
  },
  {
   "cell_type": "code",
   "execution_count": 3,
   "metadata": {},
   "outputs": [
    {
     "name": "stdout",
     "output_type": "stream",
     "text": [
      "True\n"
     ]
    }
   ],
   "source": [
    "print((1, 1) == (1, 1))"
   ]
  },
  {
   "cell_type": "code",
   "execution_count": 8,
   "metadata": {},
   "outputs": [
    {
     "data": {
      "application/vnd.jupyter.widget-view+json": {
       "model_id": "e1e2322b90b74d3a9e280a304b9fe163",
       "version_major": 2,
       "version_minor": 0
      },
      "text/plain": [
       "  0%|          | 0/1705 [00:00<?, ?it/s]"
      ]
     },
     "metadata": {},
     "output_type": "display_data"
    },
    {
     "name": "stdout",
     "output_type": "stream",
     "text": [
      "running fragile check\n",
      "running fragile check\n",
      "running fragile check\n",
      "running fragile check\n",
      "running fragile check\n",
      "running fragile check\n",
      "running fragile check\n"
     ]
    }
   ],
   "source": [
    "df = pd.read_csv(\"1000x1000-1.csv\", index_col=0)\n",
    "originalImageData = multiplewatermark.readImage(\"test-1000x1000.png\")\n",
    "originalImageDataYUV = multiplewatermark.rgbToYUV(originalImageData)\n",
    "robust = []\n",
    "fragileR = []\n",
    "fragileG = []\n",
    "fragileB = []\n",
    "\n",
    "prevImageSize = (-1, -1)\n",
    "for i, data in tqdm(df.iterrows(), total=df.shape[0]):\n",
    "    imageData = multiplewatermark.readImage(\n",
    "        \"watermarked/test-1000x1000/\" + data[\"filename\"])\n",
    "    \n",
    "    imageDataYUV = multiplewatermark.rgbToYUV(imageData)\n",
    "    outsideImageSize = tuple(\n",
    "        map(int, data[\"outsideShape\"][1:-1].split(', ')))\n",
    "    factor = int(data[\"factor\"])\n",
    "    bitPerPart = int(data[\"bitPerPart\"])\n",
    "    radius = int(data[\"radius\"])\n",
    "\n",
    "    _, originalOutsideImageDataY = multiplewatermark.splitImage(\n",
    "        originalImageDataYUV[:, :, 0], outsideImageSize)\n",
    "    _, outsideImageDataY = multiplewatermark.splitImage(\n",
    "        imageDataYUV[:, :, 0], outsideImageSize)\n",
    "\n",
    "    robustCheckResult = multiplewatermark.processExtractRobustWatermark(\n",
    "        outsideImageDataY, originalOutsideImageDataY, \"thor\", factor, bitPerPart, radius)\n",
    "    \n",
    "    if(prevImageSize != outsideImageSize):\n",
    "    # if(True):\n",
    "        print(\"running fragile check\")\n",
    "        insideImageDataR, _ = multiplewatermark.splitImage(\n",
    "            imageData[:, :, 0], outsideImageSize, multiplewatermark.INSIDE_ONLY)\n",
    "        insideImageDataG, _ = multiplewatermark.splitImage(\n",
    "            imageData[:, :, 1], outsideImageSize, multiplewatermark.INSIDE_ONLY)\n",
    "        insideImageDataB, _ = multiplewatermark.splitImage(\n",
    "            imageData[:, :, 2], outsideImageSize, multiplewatermark.INSIDE_ONLY)\n",
    "        extractedFragileR = multiplewatermark.extractFragileWatermark(insideImageDataR, \"thor\")\n",
    "        extractedFragileG = multiplewatermark.extractFragileWatermark(insideImageDataG, \"thor\")\n",
    "        extractedFragileB = multiplewatermark.extractFragileWatermark(insideImageDataB, \"thor\")\n",
    "        prevImageSize = outsideImageSize\n",
    "    \n",
    "    robust.append(robustCheckResult)\n",
    "    fragileR.append(np.average(extractedFragileR))\n",
    "    fragileG.append(np.average(extractedFragileG))\n",
    "    fragileB.append(np.average(extractedFragileB))\n",
    "\n",
    "df[\"robustCheck\"] = robust\n",
    "df[\"fragileRedCheck\"] = fragileR\n",
    "df[\"fragileGreenCheck\"] = fragileG\n",
    "df[\"fragileBlueCheck\"] = fragileB\n",
    "df.to_csv(\"1000x1000-with-check.csv\")\n"
   ]
  },
  {
   "cell_type": "code",
   "execution_count": 10,
   "metadata": {},
   "outputs": [
    {
     "data": {
      "application/vnd.jupyter.widget-view+json": {
       "model_id": "f065aa89a0d14b589e90977fa4cef34e",
       "version_major": 2,
       "version_minor": 0
      },
      "text/plain": [
       "  0%|          | 0/2376 [00:00<?, ?it/s]"
      ]
     },
     "metadata": {},
     "output_type": "display_data"
    },
    {
     "name": "stderr",
     "output_type": "stream",
     "text": [
      "d:\\Kuliah\\KOLO\\code\\multiplewatermark.py:283: RuntimeWarning: invalid value encountered in scalar divide\n",
      "  extractedWatermarkData[i] = (mag[val[0], val[1]] - originalMag[val[0], val[1]]) / \\\n"
     ]
    },
    {
     "name": "stdout",
     "output_type": "stream",
     "text": [
      "running fragile check\n"
     ]
    },
    {
     "name": "stderr",
     "output_type": "stream",
     "text": [
      "d:\\Kuliah\\KOLO\\code\\multiplewatermark.py:283: RuntimeWarning: divide by zero encountered in scalar divide\n",
      "  extractedWatermarkData[i] = (mag[val[0], val[1]] - originalMag[val[0], val[1]]) / \\\n",
      "d:\\Kuliah\\KOLO\\code\\multiplewatermark.py:155: RuntimeWarning: invalid value encountered in scalar divide\n",
      "  temp = (((i - min(arr))*diff)/diff_arr) + t_min\n",
      "d:\\Kuliah\\KOLO\\code\\multiplewatermark.py:155: RuntimeWarning: invalid value encountered in scalar subtract\n",
      "  temp = (((i - min(arr))*diff)/diff_arr) + t_min\n"
     ]
    },
    {
     "name": "stdout",
     "output_type": "stream",
     "text": [
      "running fragile check\n",
      "running fragile check\n",
      "running fragile check\n",
      "running fragile check\n",
      "running fragile check\n",
      "running fragile check\n",
      "running fragile check\n"
     ]
    }
   ],
   "source": [
    "df = pd.read_csv(\"2000x2000-1.csv\", index_col=0)\n",
    "originalImageData = multiplewatermark.readImage(\"test-2000x2000.png\")\n",
    "originalImageDataYUV = multiplewatermark.rgbToYUV(originalImageData)\n",
    "robust = []\n",
    "fragileR = []\n",
    "fragileG = []\n",
    "fragileB = []\n",
    "\n",
    "prevImageSize = (-1, -1)\n",
    "for i, data in tqdm(df.iterrows(), total=df.shape[0]):\n",
    "    imageData = multiplewatermark.readImage(\n",
    "        \"watermarked/test-2000x2000/\" + data[\"filename\"])\n",
    "    \n",
    "    imageDataYUV = multiplewatermark.rgbToYUV(imageData)\n",
    "    outsideImageSize = tuple(\n",
    "        map(int, data[\"outsideShape\"][1:-1].split(', ')))\n",
    "    factor = int(data[\"factor\"])\n",
    "    bitPerPart = int(data[\"bitPerPart\"])\n",
    "    radius = int(data[\"radius\"])\n",
    "\n",
    "    _, originalOutsideImageDataY = multiplewatermark.splitImage(\n",
    "        originalImageDataYUV[:, :, 0], outsideImageSize)\n",
    "    _, outsideImageDataY = multiplewatermark.splitImage(\n",
    "        imageDataYUV[:, :, 0], outsideImageSize)\n",
    "\n",
    "    robustCheckResult = multiplewatermark.processExtractRobustWatermark(\n",
    "        outsideImageDataY, originalOutsideImageDataY, \"thor\", factor, bitPerPart, radius)\n",
    "    \n",
    "    if(prevImageSize != outsideImageSize):\n",
    "    # if(True):\n",
    "        print(\"running fragile check\")\n",
    "        insideImageDataR, _ = multiplewatermark.splitImage(\n",
    "            imageData[:, :, 0], outsideImageSize, multiplewatermark.INSIDE_ONLY)\n",
    "        insideImageDataG, _ = multiplewatermark.splitImage(\n",
    "            imageData[:, :, 1], outsideImageSize, multiplewatermark.INSIDE_ONLY)\n",
    "        insideImageDataB, _ = multiplewatermark.splitImage(\n",
    "            imageData[:, :, 2], outsideImageSize, multiplewatermark.INSIDE_ONLY)\n",
    "        extractedFragileR = multiplewatermark.extractFragileWatermark(insideImageDataR, \"thor\")\n",
    "        extractedFragileG = multiplewatermark.extractFragileWatermark(insideImageDataG, \"thor\")\n",
    "        extractedFragileB = multiplewatermark.extractFragileWatermark(insideImageDataB, \"thor\")\n",
    "        prevImageSize = outsideImageSize\n",
    "    \n",
    "    robust.append(robustCheckResult)\n",
    "    fragileR.append(np.average(extractedFragileR))\n",
    "    fragileG.append(np.average(extractedFragileG))\n",
    "    fragileB.append(np.average(extractedFragileB))\n",
    "\n",
    "df[\"robustCheck\"] = robust\n",
    "df[\"fragileRedCheck\"] = fragileR\n",
    "df[\"fragileGreenCheck\"] = fragileG\n",
    "df[\"fragileBlueCheck\"] = fragileB\n",
    "df.to_csv(\"2000x2000-with-check.csv\")\n"
   ]
  },
  {
   "cell_type": "code",
   "execution_count": 10,
   "metadata": {},
   "outputs": [
    {
     "data": {
      "image/png": "[encoded data removed]",
      "text/plain": [
       "<Figure size 1000x1000 with 1 Axes>"
      ]
     },
     "metadata": {},
     "output_type": "display_data"
    }
   ],
   "source": [
    "df = pd.read_csv(\"500x500-with-check.csv\", index_col=0)\n",
    "# print(df.describe())\n",
    "# print(df[\"psnr\"])\n",
    "# print(df[df[\"outsideShape\"] == \"(10, 10)\"])\n",
    "\n",
    "df_show = df[df[\"outsideShape\"] == \"(10, 10)\"]\n",
    "\n",
    "# df_show.plot(kind='scatter',\n",
    "#         x='factor',\n",
    "#         y='psnr',\n",
    "#         figsize=(10, 10))\n",
    "\n",
    "# plt.show()"
   ]
  },
  {
   "cell_type": "code",
   "execution_count": null,
   "metadata": {},
   "outputs": [],
   "source": []
  }
 ],
 "metadata": {
  "kernelspec": {
   "display_name": "multiple-watermark-3.11",
   "language": "python",
   "name": "python3"
  },
  "language_info": {
   "codemirror_mode": {
    "name": "ipython",
    "version": 3
   },
   "file_extension": ".py",
   "mimetype": "text/x-python",
   "name": "python",
   "nbconvert_exporter": "python",
   "pygments_lexer": "ipython3",
   "version": "3.11.2"
  },
  "orig_nbformat": 4,
  "vscode": {
   "interpreter": {
    "hash": "1f501c34783113d9fa4350a6bbcf938a8a5e4d875e9981b72bcf073da4b116bf"
   }
  }
 },
 "nbformat": 4,
 "nbformat_minor": 2
}
