{
 "cells": [
  {
   "cell_type": "code",
   "execution_count": 1,
   "metadata": {},
   "outputs": [],
   "source": [
    "import multiplewatermark"
   ]
  },
  {
   "cell_type": "code",
   "execution_count": 2,
   "metadata": {},
   "outputs": [
    {
     "name": "stdout",
     "output_type": "stream",
     "text": [
      "1.0\n",
      "1.0\n",
      "1.0\n",
      "0.9934895833333334\n"
     ]
    }
   ],
   "source": [
    "outsideShape = (40, 40)\n",
    "factor = 20\n",
    "bitPerPart = 8\n",
    "radius = 10\n",
    "\n",
    "# TODO\n",
    "# handle 3 channel image\n",
    "# enhance robust watermark\n",
    "\n",
    "imageData = multiplewatermark.readImage(\"original1-color.png\")\n",
    "# watermarked = multipleWatermark(\n",
    "#     imageData, \"thor\", outsideShape, factor, True, False, \"watermarked.png\", bitPerPart, radius)\n",
    "watermarked = multiplewatermark.processEmbedMultipleWatermarkColor(\n",
    "imageData, \"thor\", outsideShape, factor, True, True, \"watermarked\", \"watermarked.png\", bitPerPart, radius)\n",
    "# extractMultipleWatermark(watermarked, imageData, \"thor\", outsideShape, factor, bitPerPart, radius)\n",
    "multiplewatermark.processExtractMultipleWatermarkColor(watermarked, imageData, \"thor\", outsideShape, factor, bitPerPart, radius)"
   ]
  }
 ],
 "metadata": {
  "kernelspec": {
   "display_name": "venv",
   "language": "python",
   "name": "python3"
  },
  "language_info": {
   "codemirror_mode": {
    "name": "ipython",
    "version": 3
   },
   "file_extension": ".py",
   "mimetype": "text/x-python",
   "name": "python",
   "nbconvert_exporter": "python",
   "pygments_lexer": "ipython3",
   "version": "3.10.4"
  },
  "orig_nbformat": 4
 },
 "nbformat": 4,
 "nbformat_minor": 2
}
